{
 "cells": [
  {
   "cell_type": "markdown",
   "metadata": {},
   "source": [
    "# About this Notebook:"
   ]
  },
  {
   "cell_type": "markdown",
   "metadata": {
    "collapsed": true
   },
   "source": [
    "This notebook detailed the exploratory data analysis on the Open Images Classes. So we can prepared the ourself to how to use the data."
   ]
  },
  {
   "cell_type": "markdown",
   "metadata": {},
   "source": [
    "Notebook Enviroment"
   ]
  },
  {
   "cell_type": "markdown",
   "metadata": {},
   "source": [
    "- Kernel: Python 2\n",
    "- "
   ]
  },
  {
   "cell_type": "code",
   "execution_count": 1,
   "metadata": {},
   "outputs": [
    {
     "name": "stdout",
     "output_type": "stream",
     "text": [
      "Python 2.7.12\r\n"
     ]
    }
   ],
   "source": [
    "!python --version"
   ]
  },
  {
   "cell_type": "markdown",
   "metadata": {},
   "source": [
    "## Question to be answered:"
   ]
  },
  {
   "cell_type": "markdown",
   "metadata": {},
   "source": [
    "1. How many classes can we use?\n",
    "2. How many images perclass?"
   ]
  },
  {
   "cell_type": "markdown",
   "metadata": {},
   "source": [
    "## TODO"
   ]
  },
  {
   "cell_type": "markdown",
   "metadata": {},
   "source": []
  },
  {
   "cell_type": "code",
   "execution_count": null,
   "metadata": {},
   "outputs": [],
   "source": []
  },
  {
   "cell_type": "markdown",
   "metadata": {},
   "source": [
    "# Load Modules"
   ]
  },
  {
   "cell_type": "code",
   "execution_count": 2,
   "metadata": {},
   "outputs": [],
   "source": [
    "import pandas as pd\n",
    "import numpy as np\n",
    "import json\n",
    "import os\n",
    "import time\n",
    "import matplotlib\n",
    "import matplotlib.pyplot as plt\n",
    "import matplotlib.patches as mpatches\n",
    "%matplotlib inline\n",
    "\n",
    "import seaborn as sns\n",
    "\n"
   ]
  },
  {
   "cell_type": "markdown",
   "metadata": {},
   "source": [
    "# Commonly Shared Statics"
   ]
  },
  {
   "cell_type": "code",
   "execution_count": 3,
   "metadata": {},
   "outputs": [],
   "source": [
    "data_labels_description_dir_path = '../../data/doc/labels/'"
   ]
  },
  {
   "cell_type": "code",
   "execution_count": 4,
   "metadata": {},
   "outputs": [],
   "source": [
    "data_dir_path = '../../data/'"
   ]
  },
  {
   "cell_type": "markdown",
   "metadata": {},
   "source": [
    "# EDA on the class-descriptions.csv"
   ]
  },
  {
   "cell_type": "code",
   "execution_count": 5,
   "metadata": {},
   "outputs": [],
   "source": [
    "class_descriptions_file_path = data_labels_description_dir_path + 'class-descriptions.csv'\n"
   ]
  },
  {
   "cell_type": "code",
   "execution_count": 6,
   "metadata": {},
   "outputs": [],
   "source": [
    "df_class_descriptions = pd.read_csv(class_descriptions_file_path,names=['LabelName', 'Description'])"
   ]
  },
  {
   "cell_type": "code",
   "execution_count": 7,
   "metadata": {},
   "outputs": [
    {
     "data": {
      "text/html": [
       "<div>\n",
       "<table border=\"1\" class=\"dataframe\">\n",
       "  <thead>\n",
       "    <tr style=\"text-align: right;\">\n",
       "      <th></th>\n",
       "      <th>LabelName</th>\n",
       "      <th>Description</th>\n",
       "    </tr>\n",
       "  </thead>\n",
       "  <tbody>\n",
       "    <tr>\n",
       "      <th>0</th>\n",
       "      <td>/m/0100nhbf</td>\n",
       "      <td>Sprenger's tulip</td>\n",
       "    </tr>\n",
       "    <tr>\n",
       "      <th>1</th>\n",
       "      <td>/m/0104x9kv</td>\n",
       "      <td>Vinegret</td>\n",
       "    </tr>\n",
       "    <tr>\n",
       "      <th>2</th>\n",
       "      <td>/m/0105jzwx</td>\n",
       "      <td>Dabu-dabu</td>\n",
       "    </tr>\n",
       "    <tr>\n",
       "      <th>3</th>\n",
       "      <td>/m/0105ld7g</td>\n",
       "      <td>Pistachio ice cream</td>\n",
       "    </tr>\n",
       "    <tr>\n",
       "      <th>4</th>\n",
       "      <td>/m/0105lxy5</td>\n",
       "      <td>Woku</td>\n",
       "    </tr>\n",
       "    <tr>\n",
       "      <th>5</th>\n",
       "      <td>/m/0105n86x</td>\n",
       "      <td>Pastila</td>\n",
       "    </tr>\n",
       "    <tr>\n",
       "      <th>6</th>\n",
       "      <td>/m/0105ts35</td>\n",
       "      <td>Burasa</td>\n",
       "    </tr>\n",
       "    <tr>\n",
       "      <th>7</th>\n",
       "      <td>/m/0108_09c</td>\n",
       "      <td>Summer snowflake</td>\n",
       "    </tr>\n",
       "    <tr>\n",
       "      <th>8</th>\n",
       "      <td>/m/01_097</td>\n",
       "      <td>Airmail</td>\n",
       "    </tr>\n",
       "    <tr>\n",
       "      <th>9</th>\n",
       "      <td>/m/010dmf</td>\n",
       "      <td>Isle of man tt</td>\n",
       "    </tr>\n",
       "  </tbody>\n",
       "</table>\n",
       "</div>"
      ],
      "text/plain": [
       "     LabelName          Description\n",
       "0  /m/0100nhbf     Sprenger's tulip\n",
       "1  /m/0104x9kv             Vinegret\n",
       "2  /m/0105jzwx            Dabu-dabu\n",
       "3  /m/0105ld7g  Pistachio ice cream\n",
       "4  /m/0105lxy5                 Woku\n",
       "5  /m/0105n86x              Pastila\n",
       "6  /m/0105ts35               Burasa\n",
       "7  /m/0108_09c     Summer snowflake\n",
       "8    /m/01_097              Airmail\n",
       "9    /m/010dmf       Isle of man tt"
      ]
     },
     "execution_count": 7,
     "metadata": {},
     "output_type": "execute_result"
    }
   ],
   "source": [
    "df_class_descriptions.head(10)"
   ]
  },
  {
   "cell_type": "code",
   "execution_count": 8,
   "metadata": {},
   "outputs": [
    {
     "data": {
      "text/html": [
       "<div>\n",
       "<table border=\"1\" class=\"dataframe\">\n",
       "  <thead>\n",
       "    <tr style=\"text-align: right;\">\n",
       "      <th></th>\n",
       "      <th>LabelName</th>\n",
       "      <th>Description</th>\n",
       "    </tr>\n",
       "  </thead>\n",
       "  <tbody>\n",
       "    <tr>\n",
       "      <th>19985</th>\n",
       "      <td>/m/0zdntfj</td>\n",
       "      <td>Candy cane sorrel</td>\n",
       "    </tr>\n",
       "    <tr>\n",
       "      <th>19986</th>\n",
       "      <td>/m/0zg7256</td>\n",
       "      <td>Gingerbread house</td>\n",
       "    </tr>\n",
       "    <tr>\n",
       "      <th>19987</th>\n",
       "      <td>/m/0zghq</td>\n",
       "      <td>Moonshine</td>\n",
       "    </tr>\n",
       "    <tr>\n",
       "      <th>19988</th>\n",
       "      <td>/m/0zkm</td>\n",
       "      <td>Arthropod</td>\n",
       "    </tr>\n",
       "    <tr>\n",
       "      <th>19989</th>\n",
       "      <td>/m/0zlm</td>\n",
       "      <td>Conservation-restoration</td>\n",
       "    </tr>\n",
       "    <tr>\n",
       "      <th>19990</th>\n",
       "      <td>/m/0zrpfhj</td>\n",
       "      <td>Throwing</td>\n",
       "    </tr>\n",
       "    <tr>\n",
       "      <th>19991</th>\n",
       "      <td>/m/0zrrls2</td>\n",
       "      <td>Red dahlia</td>\n",
       "    </tr>\n",
       "    <tr>\n",
       "      <th>19992</th>\n",
       "      <td>/m/0zrthkd</td>\n",
       "      <td>Brine</td>\n",
       "    </tr>\n",
       "    <tr>\n",
       "      <th>19993</th>\n",
       "      <td>/m/0zrv5th</td>\n",
       "      <td>Lamborghini huracán</td>\n",
       "    </tr>\n",
       "    <tr>\n",
       "      <th>19994</th>\n",
       "      <td>/m/0zvk5</td>\n",
       "      <td>Helmet</td>\n",
       "    </tr>\n",
       "  </tbody>\n",
       "</table>\n",
       "</div>"
      ],
      "text/plain": [
       "        LabelName               Description\n",
       "19985  /m/0zdntfj         Candy cane sorrel\n",
       "19986  /m/0zg7256         Gingerbread house\n",
       "19987    /m/0zghq                 Moonshine\n",
       "19988     /m/0zkm                 Arthropod\n",
       "19989     /m/0zlm  Conservation-restoration\n",
       "19990  /m/0zrpfhj                  Throwing\n",
       "19991  /m/0zrrls2                Red dahlia\n",
       "19992  /m/0zrthkd                     Brine\n",
       "19993  /m/0zrv5th       Lamborghini huracán\n",
       "19994    /m/0zvk5                    Helmet"
      ]
     },
     "execution_count": 8,
     "metadata": {},
     "output_type": "execute_result"
    }
   ],
   "source": [
    "df_class_descriptions.tail(10)"
   ]
  },
  {
   "cell_type": "code",
   "execution_count": 9,
   "metadata": {
    "scrolled": true
   },
   "outputs": [
    {
     "data": {
      "text/html": [
       "<div>\n",
       "<table border=\"1\" class=\"dataframe\">\n",
       "  <thead>\n",
       "    <tr style=\"text-align: right;\">\n",
       "      <th></th>\n",
       "      <th>LabelName</th>\n",
       "      <th>Description</th>\n",
       "    </tr>\n",
       "  </thead>\n",
       "  <tbody>\n",
       "    <tr>\n",
       "      <th>count</th>\n",
       "      <td>19995</td>\n",
       "      <td>19995</td>\n",
       "    </tr>\n",
       "    <tr>\n",
       "      <th>unique</th>\n",
       "      <td>19995</td>\n",
       "      <td>19712</td>\n",
       "    </tr>\n",
       "    <tr>\n",
       "      <th>top</th>\n",
       "      <td>/m/02qg91d</td>\n",
       "      <td>Trunk</td>\n",
       "    </tr>\n",
       "    <tr>\n",
       "      <th>freq</th>\n",
       "      <td>1</td>\n",
       "      <td>4</td>\n",
       "    </tr>\n",
       "  </tbody>\n",
       "</table>\n",
       "</div>"
      ],
      "text/plain": [
       "         LabelName Description\n",
       "count        19995       19995\n",
       "unique       19995       19712\n",
       "top     /m/02qg91d       Trunk\n",
       "freq             1           4"
      ]
     },
     "execution_count": 9,
     "metadata": {},
     "output_type": "execute_result"
    }
   ],
   "source": [
    "df_class_descriptions.describe()"
   ]
  },
  {
   "cell_type": "code",
   "execution_count": 10,
   "metadata": {},
   "outputs": [
    {
     "name": "stdout",
     "output_type": "stream",
     "text": [
      "<class 'pandas.core.frame.DataFrame'>\n",
      "Int64Index: 19995 entries, 0 to 19994\n",
      "Data columns (total 2 columns):\n",
      "LabelName      19995 non-null object\n",
      "Description    19995 non-null object\n",
      "dtypes: object(2)\n",
      "memory usage: 468.6+ KB\n"
     ]
    }
   ],
   "source": [
    "df_class_descriptions.info()"
   ]
  },
  {
   "cell_type": "code",
   "execution_count": null,
   "metadata": {},
   "outputs": [],
   "source": []
  },
  {
   "cell_type": "markdown",
   "metadata": {},
   "source": [
    "## EDA on the classes-trainable.txt"
   ]
  },
  {
   "cell_type": "code",
   "execution_count": 11,
   "metadata": {},
   "outputs": [],
   "source": [
    "classes_trainable_file_path = data_labels_description_dir_path + 'classes-trainable.txt'\n",
    "\n"
   ]
  },
  {
   "cell_type": "code",
   "execution_count": 12,
   "metadata": {},
   "outputs": [],
   "source": [
    "df_classes_trainable = pd.read_csv(classes_trainable_file_path,names=['LabelName'])"
   ]
  },
  {
   "cell_type": "code",
   "execution_count": 13,
   "metadata": {},
   "outputs": [
    {
     "data": {
      "text/html": [
       "<div>\n",
       "<table border=\"1\" class=\"dataframe\">\n",
       "  <thead>\n",
       "    <tr style=\"text-align: right;\">\n",
       "      <th></th>\n",
       "      <th>LabelName</th>\n",
       "    </tr>\n",
       "  </thead>\n",
       "  <tbody>\n",
       "    <tr>\n",
       "      <th>0</th>\n",
       "      <td>/m/0108_09c</td>\n",
       "    </tr>\n",
       "    <tr>\n",
       "      <th>1</th>\n",
       "      <td>/m/010dmf</td>\n",
       "    </tr>\n",
       "    <tr>\n",
       "      <th>2</th>\n",
       "      <td>/m/010jjr</td>\n",
       "    </tr>\n",
       "    <tr>\n",
       "      <th>3</th>\n",
       "      <td>/m/010l12</td>\n",
       "    </tr>\n",
       "    <tr>\n",
       "      <th>4</th>\n",
       "      <td>/m/010lq47b</td>\n",
       "    </tr>\n",
       "    <tr>\n",
       "      <th>5</th>\n",
       "      <td>/m/010ls_cv</td>\n",
       "    </tr>\n",
       "    <tr>\n",
       "      <th>6</th>\n",
       "      <td>/m/01127</td>\n",
       "    </tr>\n",
       "    <tr>\n",
       "      <th>7</th>\n",
       "      <td>/m/01_12b</td>\n",
       "    </tr>\n",
       "    <tr>\n",
       "      <th>8</th>\n",
       "      <td>/m/0117_25k</td>\n",
       "    </tr>\n",
       "    <tr>\n",
       "      <th>9</th>\n",
       "      <td>/m/0117z</td>\n",
       "    </tr>\n",
       "  </tbody>\n",
       "</table>\n",
       "</div>"
      ],
      "text/plain": [
       "     LabelName\n",
       "0  /m/0108_09c\n",
       "1    /m/010dmf\n",
       "2    /m/010jjr\n",
       "3    /m/010l12\n",
       "4  /m/010lq47b\n",
       "5  /m/010ls_cv\n",
       "6     /m/01127\n",
       "7    /m/01_12b\n",
       "8  /m/0117_25k\n",
       "9     /m/0117z"
      ]
     },
     "execution_count": 13,
     "metadata": {},
     "output_type": "execute_result"
    }
   ],
   "source": [
    "df_classes_trainable.head(10)"
   ]
  },
  {
   "cell_type": "code",
   "execution_count": 14,
   "metadata": {},
   "outputs": [
    {
     "data": {
      "text/html": [
       "<div>\n",
       "<table border=\"1\" class=\"dataframe\">\n",
       "  <thead>\n",
       "    <tr style=\"text-align: right;\">\n",
       "      <th></th>\n",
       "      <th>LabelName</th>\n",
       "    </tr>\n",
       "  </thead>\n",
       "  <tbody>\n",
       "    <tr>\n",
       "      <th>count</th>\n",
       "      <td>7186</td>\n",
       "    </tr>\n",
       "    <tr>\n",
       "      <th>unique</th>\n",
       "      <td>7186</td>\n",
       "    </tr>\n",
       "    <tr>\n",
       "      <th>top</th>\n",
       "      <td>/m/02qg91d</td>\n",
       "    </tr>\n",
       "    <tr>\n",
       "      <th>freq</th>\n",
       "      <td>1</td>\n",
       "    </tr>\n",
       "  </tbody>\n",
       "</table>\n",
       "</div>"
      ],
      "text/plain": [
       "         LabelName\n",
       "count         7186\n",
       "unique        7186\n",
       "top     /m/02qg91d\n",
       "freq             1"
      ]
     },
     "execution_count": 14,
     "metadata": {},
     "output_type": "execute_result"
    }
   ],
   "source": [
    "df_classes_trainable.describe()"
   ]
  },
  {
   "cell_type": "code",
   "execution_count": 15,
   "metadata": {},
   "outputs": [
    {
     "name": "stdout",
     "output_type": "stream",
     "text": [
      "<class 'pandas.core.frame.DataFrame'>\n",
      "Int64Index: 7186 entries, 0 to 7185\n",
      "Data columns (total 1 columns):\n",
      "LabelName    7186 non-null object\n",
      "dtypes: object(1)\n",
      "memory usage: 112.3+ KB\n"
     ]
    }
   ],
   "source": [
    "df_classes_trainable.info()"
   ]
  },
  {
   "cell_type": "markdown",
   "metadata": {
    "collapsed": true
   },
   "source": [
    "## Filter out trainable classes from class descriptions"
   ]
  },
  {
   "cell_type": "code",
   "execution_count": 16,
   "metadata": {},
   "outputs": [],
   "source": [
    "df_trainables = pd.merge(df_classes_trainable,\n",
    "                 df_class_descriptions[['LabelName', 'Description']],\n",
    "                 on='LabelName', \n",
    "                 how='inner')"
   ]
  },
  {
   "cell_type": "code",
   "execution_count": 17,
   "metadata": {},
   "outputs": [
    {
     "name": "stdout",
     "output_type": "stream",
     "text": [
      "<class 'pandas.core.frame.DataFrame'>\n",
      "Int64Index: 7186 entries, 0 to 7185\n",
      "Data columns (total 2 columns):\n",
      "LabelName      7186 non-null object\n",
      "Description    7186 non-null object\n",
      "dtypes: object(2)\n",
      "memory usage: 168.4+ KB\n"
     ]
    }
   ],
   "source": [
    "df_trainables.info()"
   ]
  },
  {
   "cell_type": "code",
   "execution_count": 18,
   "metadata": {},
   "outputs": [
    {
     "data": {
      "text/html": [
       "<div>\n",
       "<table border=\"1\" class=\"dataframe\">\n",
       "  <thead>\n",
       "    <tr style=\"text-align: right;\">\n",
       "      <th></th>\n",
       "      <th>LabelName</th>\n",
       "      <th>Description</th>\n",
       "    </tr>\n",
       "  </thead>\n",
       "  <tbody>\n",
       "    <tr>\n",
       "      <th>0</th>\n",
       "      <td>/m/0108_09c</td>\n",
       "      <td>Summer snowflake</td>\n",
       "    </tr>\n",
       "    <tr>\n",
       "      <th>1</th>\n",
       "      <td>/m/010dmf</td>\n",
       "      <td>Isle of man tt</td>\n",
       "    </tr>\n",
       "    <tr>\n",
       "      <th>2</th>\n",
       "      <td>/m/010jjr</td>\n",
       "      <td>Amusement park</td>\n",
       "    </tr>\n",
       "    <tr>\n",
       "      <th>3</th>\n",
       "      <td>/m/010l12</td>\n",
       "      <td>Roller coaster</td>\n",
       "    </tr>\n",
       "    <tr>\n",
       "      <th>4</th>\n",
       "      <td>/m/010lq47b</td>\n",
       "      <td>Witch hat</td>\n",
       "    </tr>\n",
       "  </tbody>\n",
       "</table>\n",
       "</div>"
      ],
      "text/plain": [
       "     LabelName       Description\n",
       "0  /m/0108_09c  Summer snowflake\n",
       "1    /m/010dmf    Isle of man tt\n",
       "2    /m/010jjr    Amusement park\n",
       "3    /m/010l12    Roller coaster\n",
       "4  /m/010lq47b         Witch hat"
      ]
     },
     "execution_count": 18,
     "metadata": {},
     "output_type": "execute_result"
    }
   ],
   "source": [
    "df_trainables.head()"
   ]
  },
  {
   "cell_type": "code",
   "execution_count": 19,
   "metadata": {},
   "outputs": [],
   "source": []
  },
  {
   "cell_type": "markdown",
   "metadata": {},
   "source": [
    "## EDA on train-annotations-human-imagelabels.csv"
   ]
  },
  {
   "cell_type": "code",
   "execution_count": 21,
   "metadata": {},
   "outputs": [],
   "source": [
    "train_annotations_human_imagelabels_file_path = data_labels_description_dir_path + 'train-annotations-human-imagelabels.csv'"
   ]
  },
  {
   "cell_type": "code",
   "execution_count": 24,
   "metadata": {},
   "outputs": [],
   "source": [
    "df_train_annotations_human_imagelabels = pd.read_csv(train_annotations_human_imagelabels_file_path,header=0)"
   ]
  },
  {
   "cell_type": "code",
   "execution_count": 25,
   "metadata": {},
   "outputs": [
    {
     "name": "stdout",
     "output_type": "stream",
     "text": [
      "<class 'pandas.core.frame.DataFrame'>\n",
      "Int64Index: 27894289 entries, 0 to 27894288\n",
      "Data columns (total 4 columns):\n",
      "ImageID       object\n",
      "Source        object\n",
      "LabelName     object\n",
      "Confidence    int64\n",
      "dtypes: int64(1), object(3)\n",
      "memory usage: 1.0+ GB\n"
     ]
    }
   ],
   "source": [
    "df_train_annotations_human_imagelabels.info()"
   ]
  },
  {
   "cell_type": "code",
   "execution_count": 37,
   "metadata": {
    "scrolled": true
   },
   "outputs": [
    {
     "data": {
      "text/html": [
       "<div>\n",
       "<table border=\"1\" class=\"dataframe\">\n",
       "  <thead>\n",
       "    <tr style=\"text-align: right;\">\n",
       "      <th></th>\n",
       "      <th>ImageID</th>\n",
       "      <th>Source</th>\n",
       "      <th>LabelName</th>\n",
       "      <th>Confidence</th>\n",
       "    </tr>\n",
       "  </thead>\n",
       "  <tbody>\n",
       "    <tr>\n",
       "      <th>0</th>\n",
       "      <td>000002b66c9c498e</td>\n",
       "      <td>crowdsource-verification</td>\n",
       "      <td>/m/01kcnl</td>\n",
       "      <td>1</td>\n",
       "    </tr>\n",
       "    <tr>\n",
       "      <th>1</th>\n",
       "      <td>000002b66c9c498e</td>\n",
       "      <td>verification</td>\n",
       "      <td>/m/010l12</td>\n",
       "      <td>0</td>\n",
       "    </tr>\n",
       "    <tr>\n",
       "      <th>2</th>\n",
       "      <td>000002b66c9c498e</td>\n",
       "      <td>verification</td>\n",
       "      <td>/m/012c4n</td>\n",
       "      <td>0</td>\n",
       "    </tr>\n",
       "    <tr>\n",
       "      <th>3</th>\n",
       "      <td>000002b66c9c498e</td>\n",
       "      <td>verification</td>\n",
       "      <td>/m/012mj</td>\n",
       "      <td>1</td>\n",
       "    </tr>\n",
       "    <tr>\n",
       "      <th>4</th>\n",
       "      <td>000002b66c9c498e</td>\n",
       "      <td>verification</td>\n",
       "      <td>/m/012yh1</td>\n",
       "      <td>1</td>\n",
       "    </tr>\n",
       "  </tbody>\n",
       "</table>\n",
       "</div>"
      ],
      "text/plain": [
       "            ImageID                    Source  LabelName  Confidence\n",
       "0  000002b66c9c498e  crowdsource-verification  /m/01kcnl           1\n",
       "1  000002b66c9c498e              verification  /m/010l12           0\n",
       "2  000002b66c9c498e              verification  /m/012c4n           0\n",
       "3  000002b66c9c498e              verification   /m/012mj           1\n",
       "4  000002b66c9c498e              verification  /m/012yh1           1"
      ]
     },
     "execution_count": 37,
     "metadata": {},
     "output_type": "execute_result"
    }
   ],
   "source": [
    "df_train_annotations_human_imagelabels.head()"
   ]
  },
  {
   "cell_type": "code",
   "execution_count": 28,
   "metadata": {},
   "outputs": [],
   "source": [
    "df_train_annotations_human_imagelabels_imgIDs_Labels = df_train_annotations_human_imagelabels[['ImageID','LabelName']]"
   ]
  },
  {
   "cell_type": "code",
   "execution_count": 29,
   "metadata": {
    "scrolled": true
   },
   "outputs": [
    {
     "data": {
      "text/html": [
       "<div>\n",
       "<table border=\"1\" class=\"dataframe\">\n",
       "  <thead>\n",
       "    <tr style=\"text-align: right;\">\n",
       "      <th></th>\n",
       "      <th>ImageID</th>\n",
       "      <th>LabelName</th>\n",
       "    </tr>\n",
       "  </thead>\n",
       "  <tbody>\n",
       "    <tr>\n",
       "      <th>0</th>\n",
       "      <td>000002b66c9c498e</td>\n",
       "      <td>/m/01kcnl</td>\n",
       "    </tr>\n",
       "    <tr>\n",
       "      <th>1</th>\n",
       "      <td>000002b66c9c498e</td>\n",
       "      <td>/m/010l12</td>\n",
       "    </tr>\n",
       "    <tr>\n",
       "      <th>2</th>\n",
       "      <td>000002b66c9c498e</td>\n",
       "      <td>/m/012c4n</td>\n",
       "    </tr>\n",
       "    <tr>\n",
       "      <th>3</th>\n",
       "      <td>000002b66c9c498e</td>\n",
       "      <td>/m/012mj</td>\n",
       "    </tr>\n",
       "    <tr>\n",
       "      <th>4</th>\n",
       "      <td>000002b66c9c498e</td>\n",
       "      <td>/m/012yh1</td>\n",
       "    </tr>\n",
       "  </tbody>\n",
       "</table>\n",
       "</div>"
      ],
      "text/plain": [
       "            ImageID  LabelName\n",
       "0  000002b66c9c498e  /m/01kcnl\n",
       "1  000002b66c9c498e  /m/010l12\n",
       "2  000002b66c9c498e  /m/012c4n\n",
       "3  000002b66c9c498e   /m/012mj\n",
       "4  000002b66c9c498e  /m/012yh1"
      ]
     },
     "execution_count": 29,
     "metadata": {},
     "output_type": "execute_result"
    }
   ],
   "source": [
    "df_train_annotations_human_imagelabels_imgIDs_Labels.head()"
   ]
  },
  {
   "cell_type": "code",
   "execution_count": null,
   "metadata": {},
   "outputs": [],
   "source": []
  },
  {
   "cell_type": "markdown",
   "metadata": {},
   "source": [
    "## Mergin with ImageIDs"
   ]
  },
  {
   "cell_type": "code",
   "execution_count": 38,
   "metadata": {},
   "outputs": [],
   "source": [
    "df_trainables_imageIds_label_descriptions = pd.merge(df_train_annotations_human_imagelabels_imgIDs_Labels,\n",
    "                 df_trainables[['LabelName', 'Description']],\n",
    "                 on='LabelName', \n",
    "                 how='inner')"
   ]
  },
  {
   "cell_type": "code",
   "execution_count": 39,
   "metadata": {},
   "outputs": [
    {
     "name": "stdout",
     "output_type": "stream",
     "text": [
      "<class 'pandas.core.frame.DataFrame'>\n",
      "Int64Index: 21214833 entries, 0 to 21214832\n",
      "Data columns (total 3 columns):\n",
      "ImageID        object\n",
      "LabelName      object\n",
      "Description    object\n",
      "dtypes: object(3)\n",
      "memory usage: 647.4+ MB\n"
     ]
    }
   ],
   "source": [
    "df_trainables_imageIds_label_descriptions.info()"
   ]
  },
  {
   "cell_type": "code",
   "execution_count": 41,
   "metadata": {
    "scrolled": true
   },
   "outputs": [
    {
     "data": {
      "text/html": [
       "<div>\n",
       "<table border=\"1\" class=\"dataframe\">\n",
       "  <thead>\n",
       "    <tr style=\"text-align: right;\">\n",
       "      <th></th>\n",
       "      <th>ImageID</th>\n",
       "      <th>LabelName</th>\n",
       "      <th>Description</th>\n",
       "    </tr>\n",
       "  </thead>\n",
       "  <tbody>\n",
       "    <tr>\n",
       "      <th>0</th>\n",
       "      <td>000002b66c9c498e</td>\n",
       "      <td>/m/01kcnl</td>\n",
       "      <td>Birthday</td>\n",
       "    </tr>\n",
       "    <tr>\n",
       "      <th>1</th>\n",
       "      <td>000004f4400f6ec5</td>\n",
       "      <td>/m/01kcnl</td>\n",
       "      <td>Birthday</td>\n",
       "    </tr>\n",
       "    <tr>\n",
       "      <th>2</th>\n",
       "      <td>0000071d71a0a6f6</td>\n",
       "      <td>/m/01kcnl</td>\n",
       "      <td>Birthday</td>\n",
       "    </tr>\n",
       "    <tr>\n",
       "      <th>3</th>\n",
       "      <td>000007e5752f8f1c</td>\n",
       "      <td>/m/01kcnl</td>\n",
       "      <td>Birthday</td>\n",
       "    </tr>\n",
       "    <tr>\n",
       "      <th>4</th>\n",
       "      <td>00001bc2c4027449</td>\n",
       "      <td>/m/01kcnl</td>\n",
       "      <td>Birthday</td>\n",
       "    </tr>\n",
       "    <tr>\n",
       "      <th>5</th>\n",
       "      <td>000025ea48cab6fc</td>\n",
       "      <td>/m/01kcnl</td>\n",
       "      <td>Birthday</td>\n",
       "    </tr>\n",
       "    <tr>\n",
       "      <th>6</th>\n",
       "      <td>00002b368e91b947</td>\n",
       "      <td>/m/01kcnl</td>\n",
       "      <td>Birthday</td>\n",
       "    </tr>\n",
       "    <tr>\n",
       "      <th>7</th>\n",
       "      <td>000060e3121c7305</td>\n",
       "      <td>/m/01kcnl</td>\n",
       "      <td>Birthday</td>\n",
       "    </tr>\n",
       "    <tr>\n",
       "      <th>8</th>\n",
       "      <td>000069a0b17c906e</td>\n",
       "      <td>/m/01kcnl</td>\n",
       "      <td>Birthday</td>\n",
       "    </tr>\n",
       "    <tr>\n",
       "      <th>9</th>\n",
       "      <td>00006af3eaaad9b6</td>\n",
       "      <td>/m/01kcnl</td>\n",
       "      <td>Birthday</td>\n",
       "    </tr>\n",
       "    <tr>\n",
       "      <th>10</th>\n",
       "      <td>0000a1229c025d92</td>\n",
       "      <td>/m/01kcnl</td>\n",
       "      <td>Birthday</td>\n",
       "    </tr>\n",
       "    <tr>\n",
       "      <th>11</th>\n",
       "      <td>0000a1b2fba255e9</td>\n",
       "      <td>/m/01kcnl</td>\n",
       "      <td>Birthday</td>\n",
       "    </tr>\n",
       "    <tr>\n",
       "      <th>12</th>\n",
       "      <td>0000b366aaf9672a</td>\n",
       "      <td>/m/01kcnl</td>\n",
       "      <td>Birthday</td>\n",
       "    </tr>\n",
       "    <tr>\n",
       "      <th>13</th>\n",
       "      <td>0000f8604a4e2cfe</td>\n",
       "      <td>/m/01kcnl</td>\n",
       "      <td>Birthday</td>\n",
       "    </tr>\n",
       "    <tr>\n",
       "      <th>14</th>\n",
       "      <td>00014eee4d8a4f8f</td>\n",
       "      <td>/m/01kcnl</td>\n",
       "      <td>Birthday</td>\n",
       "    </tr>\n",
       "    <tr>\n",
       "      <th>15</th>\n",
       "      <td>000161230ca61936</td>\n",
       "      <td>/m/01kcnl</td>\n",
       "      <td>Birthday</td>\n",
       "    </tr>\n",
       "    <tr>\n",
       "      <th>16</th>\n",
       "      <td>0001a282f0638ef1</td>\n",
       "      <td>/m/01kcnl</td>\n",
       "      <td>Birthday</td>\n",
       "    </tr>\n",
       "    <tr>\n",
       "      <th>17</th>\n",
       "      <td>0001c222f055d7fc</td>\n",
       "      <td>/m/01kcnl</td>\n",
       "      <td>Birthday</td>\n",
       "    </tr>\n",
       "    <tr>\n",
       "      <th>18</th>\n",
       "      <td>0001d1b33deff2d3</td>\n",
       "      <td>/m/01kcnl</td>\n",
       "      <td>Birthday</td>\n",
       "    </tr>\n",
       "    <tr>\n",
       "      <th>19</th>\n",
       "      <td>00025005a845d9dc</td>\n",
       "      <td>/m/01kcnl</td>\n",
       "      <td>Birthday</td>\n",
       "    </tr>\n",
       "    <tr>\n",
       "      <th>20</th>\n",
       "      <td>00026fcce1ecc052</td>\n",
       "      <td>/m/01kcnl</td>\n",
       "      <td>Birthday</td>\n",
       "    </tr>\n",
       "    <tr>\n",
       "      <th>21</th>\n",
       "      <td>0002e24b635ed4f3</td>\n",
       "      <td>/m/01kcnl</td>\n",
       "      <td>Birthday</td>\n",
       "    </tr>\n",
       "    <tr>\n",
       "      <th>22</th>\n",
       "      <td>000325af7df4f44e</td>\n",
       "      <td>/m/01kcnl</td>\n",
       "      <td>Birthday</td>\n",
       "    </tr>\n",
       "    <tr>\n",
       "      <th>23</th>\n",
       "      <td>0003b7ca22eb8751</td>\n",
       "      <td>/m/01kcnl</td>\n",
       "      <td>Birthday</td>\n",
       "    </tr>\n",
       "    <tr>\n",
       "      <th>24</th>\n",
       "      <td>0003dd5ed2b12811</td>\n",
       "      <td>/m/01kcnl</td>\n",
       "      <td>Birthday</td>\n",
       "    </tr>\n",
       "    <tr>\n",
       "      <th>25</th>\n",
       "      <td>0003f807c0f5720f</td>\n",
       "      <td>/m/01kcnl</td>\n",
       "      <td>Birthday</td>\n",
       "    </tr>\n",
       "    <tr>\n",
       "      <th>26</th>\n",
       "      <td>00044b4864ed9e05</td>\n",
       "      <td>/m/01kcnl</td>\n",
       "      <td>Birthday</td>\n",
       "    </tr>\n",
       "    <tr>\n",
       "      <th>27</th>\n",
       "      <td>0004901036f67bc2</td>\n",
       "      <td>/m/01kcnl</td>\n",
       "      <td>Birthday</td>\n",
       "    </tr>\n",
       "    <tr>\n",
       "      <th>28</th>\n",
       "      <td>000492aa3eb327d4</td>\n",
       "      <td>/m/01kcnl</td>\n",
       "      <td>Birthday</td>\n",
       "    </tr>\n",
       "    <tr>\n",
       "      <th>29</th>\n",
       "      <td>0004b74a5f5998ce</td>\n",
       "      <td>/m/01kcnl</td>\n",
       "      <td>Birthday</td>\n",
       "    </tr>\n",
       "    <tr>\n",
       "      <th>...</th>\n",
       "      <td>...</td>\n",
       "      <td>...</td>\n",
       "      <td>...</td>\n",
       "    </tr>\n",
       "    <tr>\n",
       "      <th>70</th>\n",
       "      <td>001456b5eac7a812</td>\n",
       "      <td>/m/01kcnl</td>\n",
       "      <td>Birthday</td>\n",
       "    </tr>\n",
       "    <tr>\n",
       "      <th>71</th>\n",
       "      <td>00147d9e95045025</td>\n",
       "      <td>/m/01kcnl</td>\n",
       "      <td>Birthday</td>\n",
       "    </tr>\n",
       "    <tr>\n",
       "      <th>72</th>\n",
       "      <td>0014d4ca8c8baed5</td>\n",
       "      <td>/m/01kcnl</td>\n",
       "      <td>Birthday</td>\n",
       "    </tr>\n",
       "    <tr>\n",
       "      <th>73</th>\n",
       "      <td>00153bd4b08d8457</td>\n",
       "      <td>/m/01kcnl</td>\n",
       "      <td>Birthday</td>\n",
       "    </tr>\n",
       "    <tr>\n",
       "      <th>74</th>\n",
       "      <td>001591b1e0fe4778</td>\n",
       "      <td>/m/01kcnl</td>\n",
       "      <td>Birthday</td>\n",
       "    </tr>\n",
       "    <tr>\n",
       "      <th>75</th>\n",
       "      <td>0015c027b2a20f33</td>\n",
       "      <td>/m/01kcnl</td>\n",
       "      <td>Birthday</td>\n",
       "    </tr>\n",
       "    <tr>\n",
       "      <th>76</th>\n",
       "      <td>0015df57518d6a1b</td>\n",
       "      <td>/m/01kcnl</td>\n",
       "      <td>Birthday</td>\n",
       "    </tr>\n",
       "    <tr>\n",
       "      <th>77</th>\n",
       "      <td>0015f2093b92522d</td>\n",
       "      <td>/m/01kcnl</td>\n",
       "      <td>Birthday</td>\n",
       "    </tr>\n",
       "    <tr>\n",
       "      <th>78</th>\n",
       "      <td>00164e85903cce63</td>\n",
       "      <td>/m/01kcnl</td>\n",
       "      <td>Birthday</td>\n",
       "    </tr>\n",
       "    <tr>\n",
       "      <th>79</th>\n",
       "      <td>0016945112a29ba5</td>\n",
       "      <td>/m/01kcnl</td>\n",
       "      <td>Birthday</td>\n",
       "    </tr>\n",
       "    <tr>\n",
       "      <th>80</th>\n",
       "      <td>00169c84ee24f1b4</td>\n",
       "      <td>/m/01kcnl</td>\n",
       "      <td>Birthday</td>\n",
       "    </tr>\n",
       "    <tr>\n",
       "      <th>81</th>\n",
       "      <td>0016a58ef51901c2</td>\n",
       "      <td>/m/01kcnl</td>\n",
       "      <td>Birthday</td>\n",
       "    </tr>\n",
       "    <tr>\n",
       "      <th>82</th>\n",
       "      <td>0016f4afe5faff29</td>\n",
       "      <td>/m/01kcnl</td>\n",
       "      <td>Birthday</td>\n",
       "    </tr>\n",
       "    <tr>\n",
       "      <th>83</th>\n",
       "      <td>00179725f2a17f61</td>\n",
       "      <td>/m/01kcnl</td>\n",
       "      <td>Birthday</td>\n",
       "    </tr>\n",
       "    <tr>\n",
       "      <th>84</th>\n",
       "      <td>0017f72c2f2692c3</td>\n",
       "      <td>/m/01kcnl</td>\n",
       "      <td>Birthday</td>\n",
       "    </tr>\n",
       "    <tr>\n",
       "      <th>85</th>\n",
       "      <td>001818c5451b513d</td>\n",
       "      <td>/m/01kcnl</td>\n",
       "      <td>Birthday</td>\n",
       "    </tr>\n",
       "    <tr>\n",
       "      <th>86</th>\n",
       "      <td>0018b13dc8b75a7f</td>\n",
       "      <td>/m/01kcnl</td>\n",
       "      <td>Birthday</td>\n",
       "    </tr>\n",
       "    <tr>\n",
       "      <th>87</th>\n",
       "      <td>00194ac9cf9f69fc</td>\n",
       "      <td>/m/01kcnl</td>\n",
       "      <td>Birthday</td>\n",
       "    </tr>\n",
       "    <tr>\n",
       "      <th>88</th>\n",
       "      <td>00199f0ca7af4c7b</td>\n",
       "      <td>/m/01kcnl</td>\n",
       "      <td>Birthday</td>\n",
       "    </tr>\n",
       "    <tr>\n",
       "      <th>89</th>\n",
       "      <td>0019d2d17cd585c4</td>\n",
       "      <td>/m/01kcnl</td>\n",
       "      <td>Birthday</td>\n",
       "    </tr>\n",
       "    <tr>\n",
       "      <th>90</th>\n",
       "      <td>0019d4f468fd8488</td>\n",
       "      <td>/m/01kcnl</td>\n",
       "      <td>Birthday</td>\n",
       "    </tr>\n",
       "    <tr>\n",
       "      <th>91</th>\n",
       "      <td>001b2c8819fa5d2f</td>\n",
       "      <td>/m/01kcnl</td>\n",
       "      <td>Birthday</td>\n",
       "    </tr>\n",
       "    <tr>\n",
       "      <th>92</th>\n",
       "      <td>001b30ed0186b87e</td>\n",
       "      <td>/m/01kcnl</td>\n",
       "      <td>Birthday</td>\n",
       "    </tr>\n",
       "    <tr>\n",
       "      <th>93</th>\n",
       "      <td>001b5f3a9e02f53c</td>\n",
       "      <td>/m/01kcnl</td>\n",
       "      <td>Birthday</td>\n",
       "    </tr>\n",
       "    <tr>\n",
       "      <th>94</th>\n",
       "      <td>001cbcb966e20986</td>\n",
       "      <td>/m/01kcnl</td>\n",
       "      <td>Birthday</td>\n",
       "    </tr>\n",
       "    <tr>\n",
       "      <th>95</th>\n",
       "      <td>001d0c36cd6c560c</td>\n",
       "      <td>/m/01kcnl</td>\n",
       "      <td>Birthday</td>\n",
       "    </tr>\n",
       "    <tr>\n",
       "      <th>96</th>\n",
       "      <td>001d3f79eb0bce4f</td>\n",
       "      <td>/m/01kcnl</td>\n",
       "      <td>Birthday</td>\n",
       "    </tr>\n",
       "    <tr>\n",
       "      <th>97</th>\n",
       "      <td>001d86f082bcbda5</td>\n",
       "      <td>/m/01kcnl</td>\n",
       "      <td>Birthday</td>\n",
       "    </tr>\n",
       "    <tr>\n",
       "      <th>98</th>\n",
       "      <td>001e949876116e72</td>\n",
       "      <td>/m/01kcnl</td>\n",
       "      <td>Birthday</td>\n",
       "    </tr>\n",
       "    <tr>\n",
       "      <th>99</th>\n",
       "      <td>001e959de04c112e</td>\n",
       "      <td>/m/01kcnl</td>\n",
       "      <td>Birthday</td>\n",
       "    </tr>\n",
       "  </tbody>\n",
       "</table>\n",
       "<p>100 rows × 3 columns</p>\n",
       "</div>"
      ],
      "text/plain": [
       "             ImageID  LabelName Description\n",
       "0   000002b66c9c498e  /m/01kcnl    Birthday\n",
       "1   000004f4400f6ec5  /m/01kcnl    Birthday\n",
       "2   0000071d71a0a6f6  /m/01kcnl    Birthday\n",
       "3   000007e5752f8f1c  /m/01kcnl    Birthday\n",
       "4   00001bc2c4027449  /m/01kcnl    Birthday\n",
       "5   000025ea48cab6fc  /m/01kcnl    Birthday\n",
       "6   00002b368e91b947  /m/01kcnl    Birthday\n",
       "7   000060e3121c7305  /m/01kcnl    Birthday\n",
       "8   000069a0b17c906e  /m/01kcnl    Birthday\n",
       "9   00006af3eaaad9b6  /m/01kcnl    Birthday\n",
       "10  0000a1229c025d92  /m/01kcnl    Birthday\n",
       "11  0000a1b2fba255e9  /m/01kcnl    Birthday\n",
       "12  0000b366aaf9672a  /m/01kcnl    Birthday\n",
       "13  0000f8604a4e2cfe  /m/01kcnl    Birthday\n",
       "14  00014eee4d8a4f8f  /m/01kcnl    Birthday\n",
       "15  000161230ca61936  /m/01kcnl    Birthday\n",
       "16  0001a282f0638ef1  /m/01kcnl    Birthday\n",
       "17  0001c222f055d7fc  /m/01kcnl    Birthday\n",
       "18  0001d1b33deff2d3  /m/01kcnl    Birthday\n",
       "19  00025005a845d9dc  /m/01kcnl    Birthday\n",
       "20  00026fcce1ecc052  /m/01kcnl    Birthday\n",
       "21  0002e24b635ed4f3  /m/01kcnl    Birthday\n",
       "22  000325af7df4f44e  /m/01kcnl    Birthday\n",
       "23  0003b7ca22eb8751  /m/01kcnl    Birthday\n",
       "24  0003dd5ed2b12811  /m/01kcnl    Birthday\n",
       "25  0003f807c0f5720f  /m/01kcnl    Birthday\n",
       "26  00044b4864ed9e05  /m/01kcnl    Birthday\n",
       "27  0004901036f67bc2  /m/01kcnl    Birthday\n",
       "28  000492aa3eb327d4  /m/01kcnl    Birthday\n",
       "29  0004b74a5f5998ce  /m/01kcnl    Birthday\n",
       "..               ...        ...         ...\n",
       "70  001456b5eac7a812  /m/01kcnl    Birthday\n",
       "71  00147d9e95045025  /m/01kcnl    Birthday\n",
       "72  0014d4ca8c8baed5  /m/01kcnl    Birthday\n",
       "73  00153bd4b08d8457  /m/01kcnl    Birthday\n",
       "74  001591b1e0fe4778  /m/01kcnl    Birthday\n",
       "75  0015c027b2a20f33  /m/01kcnl    Birthday\n",
       "76  0015df57518d6a1b  /m/01kcnl    Birthday\n",
       "77  0015f2093b92522d  /m/01kcnl    Birthday\n",
       "78  00164e85903cce63  /m/01kcnl    Birthday\n",
       "79  0016945112a29ba5  /m/01kcnl    Birthday\n",
       "80  00169c84ee24f1b4  /m/01kcnl    Birthday\n",
       "81  0016a58ef51901c2  /m/01kcnl    Birthday\n",
       "82  0016f4afe5faff29  /m/01kcnl    Birthday\n",
       "83  00179725f2a17f61  /m/01kcnl    Birthday\n",
       "84  0017f72c2f2692c3  /m/01kcnl    Birthday\n",
       "85  001818c5451b513d  /m/01kcnl    Birthday\n",
       "86  0018b13dc8b75a7f  /m/01kcnl    Birthday\n",
       "87  00194ac9cf9f69fc  /m/01kcnl    Birthday\n",
       "88  00199f0ca7af4c7b  /m/01kcnl    Birthday\n",
       "89  0019d2d17cd585c4  /m/01kcnl    Birthday\n",
       "90  0019d4f468fd8488  /m/01kcnl    Birthday\n",
       "91  001b2c8819fa5d2f  /m/01kcnl    Birthday\n",
       "92  001b30ed0186b87e  /m/01kcnl    Birthday\n",
       "93  001b5f3a9e02f53c  /m/01kcnl    Birthday\n",
       "94  001cbcb966e20986  /m/01kcnl    Birthday\n",
       "95  001d0c36cd6c560c  /m/01kcnl    Birthday\n",
       "96  001d3f79eb0bce4f  /m/01kcnl    Birthday\n",
       "97  001d86f082bcbda5  /m/01kcnl    Birthday\n",
       "98  001e949876116e72  /m/01kcnl    Birthday\n",
       "99  001e959de04c112e  /m/01kcnl    Birthday\n",
       "\n",
       "[100 rows x 3 columns]"
      ]
     },
     "execution_count": 41,
     "metadata": {},
     "output_type": "execute_result"
    }
   ],
   "source": [
    "df_trainables_imageIds_label_descriptions.head(100)"
   ]
  },
  {
   "cell_type": "code",
   "execution_count": 42,
   "metadata": {},
   "outputs": [],
   "source": [
    "df_trainables_imageIds_label_descriptions.to_csv( data_dir_path + 'imageIDs_LabelNames.csv', sep=',')"
   ]
  },
  {
   "cell_type": "markdown",
   "metadata": {},
   "source": [
    "## EDA on train-annotations-machine-imagelabels.csv"
   ]
  },
  {
   "cell_type": "code",
   "execution_count": 30,
   "metadata": {},
   "outputs": [],
   "source": [
    "train_annotations_machine_imagelabels_file_path = data_labels_description_dir_path + 'train-annotations-machine-imagelabels.csv'"
   ]
  },
  {
   "cell_type": "code",
   "execution_count": null,
   "metadata": {},
   "outputs": [],
   "source": [
    "df_train_annotations_machine_imagelabels = pd.read_csv(train_annotations_machine_imagelabels_file_path,header=0)"
   ]
  },
  {
   "cell_type": "code",
   "execution_count": null,
   "metadata": {},
   "outputs": [],
   "source": [
    "df_train_annotations_machine_imagelabels.head()"
   ]
  },
  {
   "cell_type": "code",
   "execution_count": null,
   "metadata": {},
   "outputs": [],
   "source": [
    "## EDA on train-annotations-human-imagelabels.csv"
   ]
  },
  {
   "cell_type": "code",
   "execution_count": null,
   "metadata": {},
   "outputs": [],
   "source": []
  }
 ],
 "metadata": {
  "kernelspec": {
   "display_name": "Python 2",
   "language": "python",
   "name": "python2"
  },
  "language_info": {
   "codemirror_mode": {
    "name": "ipython",
    "version": 2
   },
   "file_extension": ".py",
   "mimetype": "text/x-python",
   "name": "python",
   "nbconvert_exporter": "python",
   "pygments_lexer": "ipython2",
   "version": "2.7.12"
  }
 },
 "nbformat": 4,
 "nbformat_minor": 2
}
