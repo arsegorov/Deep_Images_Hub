{
 "cells": [
  {
   "cell_type": "markdown",
   "metadata": {},
   "source": [
    "## Distributed processing of images using TensorFlow\n",
    "An example of integrating Apache Spark with a Deep Learning library\n",
    "\n",
    "This notebook takes an existing neural network (INCEPTION-3) and applies it to a corpus of images. This notebook requires that TensorFlow be installed on the cluster.\n",
    "\n",
    "Spark integration works as follows:\n",
    "\n",
    "We define TensorFlow operations as methods, to be used within Spark tasks.\n",
    "We broadcast the model for use within Spark tasks.\n",
    "We parallelize a list of image URLs.\n",
    "Using Spark, we process the image URLs in parallel:\n",
    "Load image.\n",
    "Run inference on the image using TensorFlow to predict the image contents.\n",
    "This is a port of tutorials published by the TensorFlow team:\n",
    "\n",
    "A description is available here: http://www.tensorflow.org/versions/master/tutorials/image_recognition/index.html\n",
    "The original code is available from the TensorFlow repo, under the Apache 2.0 license: https://github.com/tensorflow/tensorflow/blob/master/tensorflow/models/image/imagenet/classify_image.py\n",
    "Thanks to the TensorFlow team for providing the original examples!"
   ]
  },
  {
   "cell_type": "code",
   "execution_count": 1,
   "metadata": {
    "collapsed": true
   },
   "outputs": [],
   "source": [
    "# Settings for this notebook\n",
    "\n",
    "MODEL_URL = 'http://download.tensorflow.org/models/image/imagenet/inception-2015-12-05.tgz'\n",
    "model_dir = '/tmp/imagenet'\n",
    "\n",
    "IMAGES_INDEX_URL = 'http://image-net.org/imagenet_data/urls/imagenet_fall11_urls.tgz'\n",
    "images_read_limit = 1000L  # Increase this to read more images\n",
    "\n",
    "# Number of images per batch.\n",
    "# 1 batch corresponds to 1 RDD row.\n",
    "image_batch_size = 3\n",
    "\n",
    "num_top_predictions = 5"
   ]
  },
  {
   "cell_type": "code",
   "execution_count": 6,
   "metadata": {
    "collapsed": true
   },
   "outputs": [],
   "source": [
    "import numpy as np\n",
    "import tensorflow as tf\n",
    "import os\n",
    "from tensorflow.python.platform import gfile\n",
    "import os.path\n",
    "import re\n",
    "import sys\n",
    "import tarfile\n",
    "from subprocess import Popen, PIPE, STDOUT"
   ]
  },
  {
   "cell_type": "markdown",
   "metadata": {},
   "source": [
    "### Download the model\n",
    "We download a pre-trained model or find a pre-downloaded one."
   ]
  },
  {
   "cell_type": "code",
   "execution_count": 7,
   "metadata": {},
   "outputs": [
    {
     "name": "stdout",
     "output_type": "stream",
     "text": [
      "('Data already downloaded:', '/tmp/imagenet/inception-2015-12-05.tgz', posix.stat_result(st_mode=33204, st_ino=2048018, st_dev=51713, st_nlink=1, st_uid=1000, st_gid=1000, st_size=88931400, st_atime=1537219034, st_mtime=1537219034, st_ctime=1537219034))\n"
     ]
    }
   ],
   "source": [
    "def maybe_download_and_extract():\n",
    "  \"\"\"Download and extract model tar file.\"\"\"\n",
    "  from six.moves import urllib\n",
    "  dest_directory = model_dir\n",
    "  if not os.path.exists(dest_directory):\n",
    "    os.makedirs(dest_directory)\n",
    "  filename = MODEL_URL.split('/')[-1]\n",
    "  filepath = os.path.join(dest_directory, filename)\n",
    "  if not os.path.exists(filepath):\n",
    "    filepath2, _ = urllib.request.urlretrieve(MODEL_URL, filepath)\n",
    "    print(\"filepath2\", filepath2)\n",
    "    statinfo = os.stat(filepath)\n",
    "    print('Succesfully downloaded', filename, statinfo.st_size, 'bytes.')\n",
    "    tarfile.open(filepath, 'r:gz').extractall(dest_directory)\n",
    "  else:\n",
    "    print('Data already downloaded:', filepath, os.stat(filepath))\n",
    "\n",
    "maybe_download_and_extract()"
   ]
  },
  {
   "cell_type": "markdown",
   "metadata": {},
   "source": [
    "### Load model data\n",
    "Load the model data, and broadcast it for use on Spark workers."
   ]
  },
  {
   "cell_type": "code",
   "execution_count": 8,
   "metadata": {
    "collapsed": true
   },
   "outputs": [],
   "source": [
    "model_path = os.path.join(model_dir, 'classify_image_graph_def.pb')\n",
    "with gfile.FastGFile(model_path, 'rb') as f:\n",
    "  model_data = f.read()"
   ]
  },
  {
   "cell_type": "code",
   "execution_count": 9,
   "metadata": {
    "collapsed": true
   },
   "outputs": [],
   "source": [
    "model_data_bc = sc.broadcast(model_data)"
   ]
  },
  {
   "cell_type": "markdown",
   "metadata": {},
   "source": [
    "### Node lookups\n",
    "Concepts (as represented by synsets, or groups of synomymous terms) have integer node IDs. This code loads a mapping from node IDs to human-readable strings for each synset."
   ]
  },
  {
   "cell_type": "code",
   "execution_count": 10,
   "metadata": {
    "collapsed": true
   },
   "outputs": [],
   "source": [
    "class NodeLookup(object):\n",
    "  \"\"\"Converts integer node IDs to human readable labels.\"\"\"\n",
    "\n",
    "  def __init__(self,\n",
    "               label_lookup_path=None,\n",
    "               uid_lookup_path=None):\n",
    "    if not label_lookup_path:\n",
    "      label_lookup_path = os.path.join(\n",
    "          model_dir, 'imagenet_2012_challenge_label_map_proto.pbtxt')\n",
    "    if not uid_lookup_path:\n",
    "      uid_lookup_path = os.path.join(\n",
    "          model_dir, 'imagenet_synset_to_human_label_map.txt')\n",
    "    self.node_lookup = self.load(label_lookup_path, uid_lookup_path)\n",
    "\n",
    "  def load(self, label_lookup_path, uid_lookup_path):\n",
    "    \"\"\"Loads a human readable English name for each softmax node.\n",
    "\n",
    "    Args:\n",
    "      label_lookup_path: string UID to integer node ID.\n",
    "      uid_lookup_path: string UID to human-readable string.\n",
    "\n",
    "    Returns:\n",
    "      dict from integer node ID to human-readable string.\n",
    "    \"\"\"\n",
    "    if not gfile.Exists(uid_lookup_path):\n",
    "      tf.logging.fatal('File does not exist %s', uid_lookup_path)\n",
    "    if not gfile.Exists(label_lookup_path):\n",
    "      tf.logging.fatal('File does not exist %s', label_lookup_path)\n",
    "\n",
    "    # Loads mapping from string UID to human-readable string\n",
    "    proto_as_ascii_lines = gfile.GFile(uid_lookup_path).readlines()\n",
    "    uid_to_human = {}\n",
    "    p = re.compile(r'[n\\d]*[ \\S,]*')\n",
    "    for line in proto_as_ascii_lines:\n",
    "      parsed_items = p.findall(line)\n",
    "      uid = parsed_items[0]\n",
    "      human_string = parsed_items[2]\n",
    "      uid_to_human[uid] = human_string\n",
    "\n",
    "    # Loads mapping from string UID to integer node ID.\n",
    "    node_id_to_uid = {}\n",
    "    proto_as_ascii = gfile.GFile(label_lookup_path).readlines()\n",
    "    for line in proto_as_ascii:\n",
    "      if line.startswith('  target_class:'):\n",
    "        target_class = int(line.split(': ')[1])\n",
    "      if line.startswith('  target_class_string:'):\n",
    "        target_class_string = line.split(': ')[1]\n",
    "        node_id_to_uid[target_class] = target_class_string[1:-2]\n",
    "\n",
    "    # Loads the final mapping of integer node ID to human-readable string\n",
    "    node_id_to_name = {}\n",
    "    for key, val in node_id_to_uid.items():\n",
    "      if val not in uid_to_human:\n",
    "        tf.logging.fatal('Failed to locate: %s', val)\n",
    "      name = uid_to_human[val]\n",
    "      node_id_to_name[key] = name\n",
    "\n",
    "    return node_id_to_name\n",
    "\n",
    "  def id_to_string(self, node_id):\n",
    "    if node_id not in self.node_lookup:\n",
    "      return ''\n",
    "    return self.node_lookup[node_id]"
   ]
  },
  {
   "cell_type": "code",
   "execution_count": 11,
   "metadata": {
    "collapsed": true
   },
   "outputs": [],
   "source": [
    "node_lookup = NodeLookup().node_lookup\n",
    "# Broadcast node lookup table to use on Spark workers\n",
    "node_lookup_bc = sc.broadcast(node_lookup)"
   ]
  },
  {
   "cell_type": "markdown",
   "metadata": {},
   "source": [
    "### Read index of image files\n",
    "We load an index of image file URLs. We will parallelize this index. Spark workers will process batches of URLs in parallel by downloading the images and running TensorFlow inference on the images."
   ]
  },
  {
   "cell_type": "code",
   "execution_count": 12,
   "metadata": {
    "collapsed": true
   },
   "outputs": [],
   "source": [
    "# Helper methods for reading images\n",
    "\n",
    "def run(cmd):\n",
    "  p = Popen(cmd, shell=True, stdin=PIPE, stdout=PIPE, stderr=STDOUT, close_fds=True)\n",
    "  return p.stdout.read()\n",
    "\n",
    "def read_file_index():\n",
    "  from six.moves import urllib\n",
    "  content = urllib.request.urlopen(IMAGES_INDEX_URL)\n",
    "  data = content.read(images_read_limit)\n",
    "  tmpfile = \"/tmp/imagenet.tgz\"\n",
    "  with open(tmpfile, 'wb') as f:\n",
    "    f.write(data)\n",
    "  run(\"tar -xOzf %s > /tmp/imagenet.txt\" % tmpfile)\n",
    "  with open(\"/tmp/imagenet.txt\", 'r') as f:\n",
    "    lines = [l.split() for l in f]\n",
    "    input_data = [tuple(elts) for elts in lines if len(elts) == 2]\n",
    "    return [input_data[i:i+image_batch_size] for i in range(0,len(input_data), image_batch_size)]"
   ]
  },
  {
   "cell_type": "code",
   "execution_count": 13,
   "metadata": {
    "collapsed": true
   },
   "outputs": [],
   "source": [
    "data_dir_path = '../../data/'"
   ]
  },
  {
   "cell_type": "code",
   "execution_count": 14,
   "metadata": {
    "collapsed": true
   },
   "outputs": [],
   "source": [
    "temp_imagenet_file_path = data_dir_path + 'imagenet.txt'"
   ]
  },
  {
   "cell_type": "code",
   "execution_count": 15,
   "metadata": {
    "collapsed": true
   },
   "outputs": [],
   "source": [
    "def read_file_index():\n",
    "  with open(temp_imagenet_file_path, 'r') as f:\n",
    "    lines = [l.split() for l in f]\n",
    "    input_data = [tuple(elts) for elts in lines if len(elts) == 2]\n",
    "    return [input_data[i:i+image_batch_size] for i in range(0,len(input_data), image_batch_size)]"
   ]
  },
  {
   "cell_type": "code",
   "execution_count": 16,
   "metadata": {},
   "outputs": [
    {
     "name": "stdout",
     "output_type": "stream",
     "text": [
      "There are 5 batches\n"
     ]
    }
   ],
   "source": [
    "batched_data = read_file_index()\n",
    "print \"There are %d batches\" % len(batched_data)"
   ]
  },
  {
   "cell_type": "markdown",
   "metadata": {},
   "source": [
    "## Distributed image processing: TensorFlow on Spark\n",
    "This section contains the main processing code. We first define methods which will be run as tasks on Spark workers. We then use Spark to parallelize the execution of these methods on the image URL dataset."
   ]
  },
  {
   "cell_type": "code",
   "execution_count": 17,
   "metadata": {
    "collapsed": true
   },
   "outputs": [],
   "source": [
    "def run_inference_on_image(sess, img_id, img_url, node_lookup):\n",
    "  \"\"\"Download an image, and run inference on it.\n",
    "\n",
    "  Args:\n",
    "    image: Image file URL\n",
    "\n",
    "  Returns:\n",
    "    (image ID, image URL, scores),\n",
    "    where scores is a list of (human-readable node names, score) pairs\n",
    "  \"\"\"\n",
    "  from six.moves import urllib\n",
    "  from urllib2 import HTTPError\n",
    "  try:\n",
    "    image_data = urllib.request.urlopen(img_url, timeout=1.0).read()\n",
    "  except:\n",
    "    return (img_id, img_url, None)\n",
    "  # Some useful tensors:\n",
    "  # 'softmax:0': A tensor containing the normalized prediction across\n",
    "  #   1000 labels.\n",
    "  # 'pool_3:0': A tensor containing the next-to-last layer containing 2048\n",
    "  #   float description of the image.\n",
    "  # 'DecodeJpeg/contents:0': A tensor containing a string providing JPEG\n",
    "  #   encoding of the image.\n",
    "  # Runs the softmax tensor by feeding the image_data as input to the graph.\n",
    "  softmax_tensor = sess.graph.get_tensor_by_name('softmax:0')\n",
    "  try:\n",
    "    predictions = sess.run(softmax_tensor,\n",
    "                           {'DecodeJpeg/contents:0': image_data})\n",
    "  except:\n",
    "    # Handle problems with malformed JPEG files\n",
    "    return (img_id, img_url, None)\n",
    "  predictions = np.squeeze(predictions)\n",
    "  top_k = predictions.argsort()[-num_top_predictions:][::-1]\n",
    "  scores = []\n",
    "  for node_id in top_k:\n",
    "    if node_id not in node_lookup:\n",
    "      human_string = ''\n",
    "    else:\n",
    "      human_string = node_lookup[node_id]\n",
    "    score = predictions[node_id]\n",
    "    scores.append((human_string, score))\n",
    "  return (img_id, img_url, scores)\n",
    "\n",
    "def apply_inference_on_batch(batch):\n",
    "  \"\"\"Apply inference to a batch of images.\n",
    "  \n",
    "  We do not explicitly tell TensorFlow to use a GPU.\n",
    "  It is able to choose between CPU and GPU based on its guess of which will be faster.\n",
    "  \"\"\"\n",
    "  with tf.Graph().as_default() as g:\n",
    "    graph_def = tf.GraphDef()\n",
    "    graph_def.ParseFromString(model_data_bc.value)\n",
    "    tf.import_graph_def(graph_def, name='')\n",
    "    with tf.Session() as sess:\n",
    "      labeled = [run_inference_on_image(sess, img_id, img_url, node_lookup_bc.value) for (img_id, img_url) in batch]\n",
    "      return [tup for tup in labeled if tup[2] is not None]"
   ]
  },
  {
   "cell_type": "markdown",
   "metadata": {},
   "source": [
    "Run TensorFlow on Spark! Actually, this will not run a Spark job yet since it does not involve an RDD action."
   ]
  },
  {
   "cell_type": "code",
   "execution_count": 18,
   "metadata": {
    "collapsed": true
   },
   "outputs": [],
   "source": [
    "urls = sc.parallelize(batched_data)\n",
    "labeled_images = urls.flatMap(apply_inference_on_batch)"
   ]
  },
  {
   "cell_type": "markdown",
   "metadata": {},
   "source": [
    "## Examine results\n",
    "When we call collect(), we will finally run the Spark job to process our images."
   ]
  },
  {
   "cell_type": "code",
   "execution_count": 23,
   "metadata": {},
   "outputs": [
    {
     "name": "stdout",
     "output_type": "stream",
     "text": [
      "CPU times: user 8 ms, sys: 0 ns, total: 8 ms\n",
      "Wall time: 14.4 s\n"
     ]
    }
   ],
   "source": [
    "%time local_labeled_images = labeled_images.collect()"
   ]
  },
  {
   "cell_type": "code",
   "execution_count": 22,
   "metadata": {},
   "outputs": [
    {
     "data": {
      "text/plain": [
       "[('n00004475_6590',\n",
       "  'http://farm4.static.flickr.com/3175/2737866473_7958dc8760.jpg',\n",
       "  [('Band Aid', 0.39498794),\n",
       "   (\"pajama, pyjama, pj's, jammies\", 0.050222874),\n",
       "   ('diaper, nappy, napkin', 0.04148308),\n",
       "   ('maraca', 0.035563882),\n",
       "   ('knee pad', 0.023788402)]),\n",
       " ('n00004475_15899',\n",
       "  'http://farm4.static.flickr.com/3276/2875184020_9944005d0d.jpg',\n",
       "  [('bathtub, bathing tub, bath, tub', 0.14705868),\n",
       "   ('weasel', 0.09492219),\n",
       "   ('black-footed ferret, ferret, Mustela nigripes', 0.06764657),\n",
       "   ('tub, vat', 0.052928075),\n",
       "   ('hamster', 0.044704173)]),\n",
       " ('n00004475_32312',\n",
       "  'http://farm3.static.flickr.com/2531/4094333885_e8462a8338.jpg',\n",
       "  [('orangutan, orang, orangutang, Pongo pygmaeus', 0.66653645),\n",
       "   ('chimpanzee, chimp, Pan troglodytes', 0.13256805),\n",
       "   ('siamang, Hylobates syndactylus, Symphalangus syndactylus', 0.007742247),\n",
       "   ('gorilla, Gorilla gorilla', 0.006600948),\n",
       "   ('patas, hussar monkey, Erythrocebus patas', 0.0015524788)]),\n",
       " ('n00004475_35466',\n",
       "  'http://farm4.static.flickr.com/3289/2809605169_8efe2b8f27.jpg',\n",
       "  [('tiger cat', 0.16426001),\n",
       "   ('tabby, tabby cat', 0.15319757),\n",
       "   ('Egyptian cat', 0.05436907),\n",
       "   ('washbasin, handbasin, washbowl, lavabo, wash-hand basin', 0.04802975),\n",
       "   ('Crock Pot', 0.026606683)]),\n",
       " ('n00004475_39382',\n",
       "  'http://2.bp.blogspot.com/_SrRTF97Kbfo/SUqT9y-qTVI/AAAAAAAABmg/saRXhruwS6M/s400/bARADEI.jpg',\n",
       "  [('Windsor tie', 0.4604616),\n",
       "   ('suit, suit of clothes', 0.45713103),\n",
       "   ('groom, bridegroom', 0.0056763273),\n",
       "   ('bow tie, bow-tie, bowtie', 0.0039308234),\n",
       "   ('Loafer', 0.0030105547)]),\n",
       " ('n00004475_41022',\n",
       "  'http://fortunaweb.com.ar/wp-content/uploads/2009/10/Caroline-Atkinson-FMI.jpg',\n",
       "  [('stage', 0.6601817),\n",
       "   ('notebook, notebook computer', 0.021151314),\n",
       "   ('microphone, mike', 0.019326428),\n",
       "   ('lab coat, laboratory coat', 0.01702876),\n",
       "   ('beaker', 0.015814394)]),\n",
       " ('n00004475_42770',\n",
       "  'http://farm4.static.flickr.com/3488/4051378654_238ca94313.jpg',\n",
       "  [('robin, American robin, Turdus migratorius', 0.50767565),\n",
       "   ('water ouzel, dipper', 0.16897146),\n",
       "   ('brambling, Fringilla montifringilla', 0.026198879),\n",
       "   ('house finch, linnet, Carpodacus mexicanus', 0.011258669),\n",
       "   ('junco, snowbird', 0.0077529126)]),\n",
       " ('n00004475_54295',\n",
       "  'http://farm4.static.flickr.com/3368/3198142470_6eb0be5f32.jpg',\n",
       "  [('howler monkey, howler', 0.32094222),\n",
       "   ('titi, titi monkey', 0.07442369),\n",
       "   ('orangutan, orang, orangutang, Pongo pygmaeus', 0.04357558),\n",
       "   ('patas, hussar monkey, Erythrocebus patas', 0.031788692),\n",
       "   ('brown bear, bruin, Ursus arctos', 0.028910168)]),\n",
       " ('n00005787_66',\n",
       "  'http://ib.berkeley.edu/labs/koehl/images/hannah.jpg',\n",
       "  [('wreck', 0.42330432),\n",
       "   ('scuba diver', 0.17089525),\n",
       "   ('coral reef', 0.1663118),\n",
       "   ('gar, garfish, garpike, billfish, Lepisosteus osseus', 0.05191837),\n",
       "   ('coho, cohoe, coho salmon, blue jack, silver salmon, Oncorhynchus kisutch',\n",
       "    0.04422564)]),\n",
       " ('n00005787_71',\n",
       "  'http://farm3.static.flickr.com/2278/2300491905_5272f77e56.jpg',\n",
       "  [('envelope', 0.4304634),\n",
       "   ('web site, website, internet site, site', 0.13491058),\n",
       "   ('analog clock', 0.12223634),\n",
       "   ('notebook, notebook computer', 0.009931572),\n",
       "   ('switch, electric switch, electrical switch', 0.008791936)]),\n",
       " ('n00005787_97',\n",
       "  'http://farm1.static.flickr.com/45/139488995_bd06578562.jpg',\n",
       "  [('platypus, duckbill, duckbilled platypus, duck-billed platypus, Ornithorhynchus anatinus',\n",
       "    0.31920633),\n",
       "   ('stingray', 0.1364348),\n",
       "   ('tiger shark, Galeocerdo cuvieri', 0.08507807),\n",
       "   ('coho, cohoe, coho salmon, blue jack, silver salmon, Oncorhynchus kisutch',\n",
       "    0.049812388),\n",
       "   ('electric ray, crampfish, numbfish, torpedo', 0.04639287)]),\n",
       " ('n00005787_105',\n",
       "  'http://farm3.static.flickr.com/2285/2658605078_f409b25597.jpg',\n",
       "  [('coral reef', 0.5387197),\n",
       "   ('coral fungus', 0.24252978),\n",
       "   ('scuba diver', 0.0081170155),\n",
       "   ('sea anemone, anemone', 0.006917317),\n",
       "   ('sea slug, nudibranch', 0.0061181756)])]"
      ]
     },
     "execution_count": 22,
     "metadata": {},
     "output_type": "execute_result"
    }
   ],
   "source": [
    "local_labeled_images"
   ]
  },
  {
   "cell_type": "code",
   "execution_count": null,
   "metadata": {
    "collapsed": true
   },
   "outputs": [],
   "source": []
  }
 ],
 "metadata": {
  "kernelspec": {
   "display_name": "Python 3",
   "language": "python",
   "name": "python3"
  },
  "language_info": {
   "codemirror_mode": {
    "name": "ipython",
    "version": 3
   },
   "file_extension": ".py",
   "mimetype": "text/x-python",
   "name": "python",
   "nbconvert_exporter": "python",
   "pygments_lexer": "ipython3",
   "version": "3.6.3"
  }
 },
 "nbformat": 4,
 "nbformat_minor": 2
}
